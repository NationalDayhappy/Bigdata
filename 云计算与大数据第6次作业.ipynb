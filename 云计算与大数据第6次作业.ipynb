{
 "cells": [
  {
   "cell_type": "code",
   "execution_count": null,
   "metadata": {},
   "outputs": [
    {
     "name": "stdout",
     "output_type": "stream",
     "text": [
      "请输入第一个人的名字陈识文\n",
      "请输入第二个人的名字李倬瑶\n"
     ]
    },
    {
     "data": {
      "text/html": [
       "<table border=\"1\" class=\"dataframe\">\n",
       "    <thead>\n",
       "        <tr>\n",
       "            <th>考试序号</th> <th>姓名</th>\n",
       "        </tr>\n",
       "    </thead>\n",
       "    <tbody>\n",
       "        <tr>\n",
       "            <td>1   </td> <td>382 </td>\n",
       "        </tr>\n",
       "        <tr>\n",
       "            <td>2   </td> <td>389 </td>\n",
       "        </tr>\n",
       "        <tr>\n",
       "            <td>3   </td> <td>434 </td>\n",
       "        </tr>\n",
       "        <tr>\n",
       "            <td>4   </td> <td>407 </td>\n",
       "        </tr>\n",
       "        <tr>\n",
       "            <td>5   </td> <td>310 </td>\n",
       "        </tr>\n",
       "        <tr>\n",
       "            <td>6   </td> <td>533 </td>\n",
       "        </tr>\n",
       "        <tr>\n",
       "            <td>7   </td> <td>333 </td>\n",
       "        </tr>\n",
       "    </tbody>\n",
       "</table>"
      ],
      "text/plain": [
       "<IPython.core.display.HTML object>"
      ]
     },
     "metadata": {},
     "output_type": "display_data"
    },
    {
     "data": {
      "text/html": [
       "<table border=\"1\" class=\"dataframe\">\n",
       "    <thead>\n",
       "        <tr>\n",
       "            <th>考试序号</th> <th>姓名</th>\n",
       "        </tr>\n",
       "    </thead>\n",
       "    <tbody>\n",
       "        <tr>\n",
       "            <td>1   </td> <td>382 </td>\n",
       "        </tr>\n",
       "        <tr>\n",
       "            <td>2   </td> <td>343 </td>\n",
       "        </tr>\n",
       "        <tr>\n",
       "            <td>3   </td> <td>337 </td>\n",
       "        </tr>\n",
       "        <tr>\n",
       "            <td>4   </td> <td>508 </td>\n",
       "        </tr>\n",
       "        <tr>\n",
       "            <td>5   </td> <td>257 </td>\n",
       "        </tr>\n",
       "        <tr>\n",
       "            <td>6   </td> <td>364 </td>\n",
       "        </tr>\n",
       "        <tr>\n",
       "            <td>7   </td> <td>336 </td>\n",
       "        </tr>\n",
       "    </tbody>\n",
       "</table>"
      ],
      "text/plain": [
       "<IPython.core.display.HTML object>"
      ]
     },
     "metadata": {},
     "output_type": "display_data"
    }
   ],
   "source": [
    "from datascience import *\n",
    "import matplotlib.pyplot as plt\n",
    "import matplotlib\n",
    "matplotlib.use('TkAgg')\n",
    "# 导入第三方库\n",
    "import pandas_profiling\n",
    "\n",
    "\n",
    "def extract_rank(data,name):\n",
    "    temp = data.where('姓名',are.equal_to(name)).column(11).item(0)\n",
    "    return temp\n",
    "    \n",
    "\n",
    "data1=Table.read_table('E:\\\\Tencent\\\\data1.csv',encoding=\"gbk\")\n",
    "data2=Table.read_table('E:\\\\Tencent\\\\20211106-utf-8.csv',encoding=\"gbk\")\n",
    "data3=Table.read_table('E:\\\\Tencent\\\\20211107-utf-8.csv',encoding=\"gbk\")\n",
    "data4=Table.read_table('E:\\\\Tencent\\\\20211108-utf-8.csv',encoding=\"gbk\")\n",
    "data5=Table.read_table('E:\\\\Tencent\\\\20211109-utf-8.csv',encoding=\"gbk\")\n",
    "data6=Table.read_table('E:\\\\Tencent\\\\20211109-1-utf-8.csv',encoding=\"gbk\")\n",
    "data7=Table.read_table('E:\\\\Tencent\\\\20211110-utf-8.csv',encoding=\"gbk\")\n",
    "\n",
    "name1 = input(\"请输入第一个人的名字\")\n",
    "name2 = input(\"请输入第二个人的名字\")\n",
    "\n",
    "rank1 = extract_rank(data1,name1)\n",
    "rank2 = extract_rank(data2,name1)\n",
    "rank3 = extract_rank(data3,name1)\n",
    "rank4 = extract_rank(data4,name1)\n",
    "rank5 = extract_rank(data5,name1)\n",
    "rank6 = extract_rank(data6,name1)\n",
    "rank7 = extract_rank(data7,name1)\n",
    "\n",
    "rank11 = extract_rank(data1,name2)\n",
    "rank22 = extract_rank(data2,name2)\n",
    "rank33 = extract_rank(data3,name2)\n",
    "rank44 = extract_rank(data4,name2)\n",
    "rank55 = extract_rank(data5,name2)\n",
    "rank66 = extract_rank(data6,name2)\n",
    "rank77 = extract_rank(data7,name2)\n",
    "\n",
    "\n",
    "rank_array = make_array(rank1,rank2,rank3,rank4,rank5,rank6,rank7)\n",
    "rank_array2 = make_array(rank11,rank22,rank33,rank44,rank55,rank66,rank77)\n",
    "\n",
    "results1 = Table().with_columns('考试序号',make_array(1,2,3,4,5,6,7),'姓名',rank_array)\n",
    "results2 = Table().with_columns('考试序号',make_array(1,2,3,4,5,6,7),'姓名',rank_array2)\n",
    "results1.show()\n",
    "results2.show()\n",
    "\n",
    "plt.plot(make_array(1,2,3,4,5,6,7),rank_array,'o--',label=name1)\n",
    "plt.plot(make_array(1,2,3,4,5,6,7),rank_array2,'o--',label=name2)\n",
    "\n",
    "plt.xlabel('历次考试')\n",
    "plt.ylabel('年级RANK')\n",
    "\n",
    "plt.axis([0,10,650,150])\n",
    "plt.legend(loc='upper right')\n",
    "\n",
    "plt.rcParams['font.sans-serif']=['Microsoft YaHei']\n",
    "\n",
    "plt.grid()\n",
    "plt.show()"
   ]
  },
  {
   "cell_type": "code",
   "execution_count": null,
   "metadata": {},
   "outputs": [],
   "source": []
  }
 ],
 "metadata": {
  "kernelspec": {
   "display_name": "Python 3 (ipykernel)",
   "language": "python",
   "name": "python3"
  },
  "language_info": {
   "codemirror_mode": {
    "name": "ipython",
    "version": 3
   },
   "file_extension": ".py",
   "mimetype": "text/x-python",
   "name": "python",
   "nbconvert_exporter": "python",
   "pygments_lexer": "ipython3",
   "version": "3.8.5"
  }
 },
 "nbformat": 4,
 "nbformat_minor": 2
}
